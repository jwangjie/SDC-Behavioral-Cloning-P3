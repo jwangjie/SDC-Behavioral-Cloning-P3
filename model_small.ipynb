{
 "cells": [
  {
   "cell_type": "code",
   "execution_count": 2,
   "metadata": {},
   "outputs": [
    {
     "name": "stderr",
     "output_type": "stream",
     "text": [
      "Using TensorFlow backend.\n"
     ]
    }
   ],
   "source": [
    "# import\n",
    "\n",
    "import pickle\n",
    "import numpy as np\n",
    "import csv\n",
    "import cv2\n",
    "\n",
    "import matplotlib.pyplot as plt\n",
    "\n",
    "from sklearn.model_selection import train_test_split\n",
    "from sklearn.utils import shuffle\n",
    "\n",
    "from keras.models import Sequential\n",
    "from keras.layers.core import Dense, Dropout,Lambda\n",
    "from keras.layers import Conv2D, MaxPooling2D, Flatten\n",
    "from keras.optimizers import Adam\n",
    "\n",
    "%matplotlib inline"
   ]
  },
  {
   "cell_type": "code",
   "execution_count": 2,
   "metadata": {},
   "outputs": [
    {
     "name": "stdout",
     "output_type": "stream",
     "text": [
      "8036\n"
     ]
    }
   ],
   "source": [
    "# read in training log \n",
    "data_folder = './data/data/'\n",
    "\n",
    "log_path = data_folder + 'driving_log.csv'\n",
    "logs = []\n",
    "with open(log_path,'r') as f:\n",
    "    reader = csv.reader(f)\n",
    "    for line in reader:\n",
    "        logs.append(line)\n",
    "    # remove the first row in the logs\n",
    "    # https://stackoverflow.com/questions/4426663/how-do-i-remove-the-first-item-from-a-python-list\n",
    "    logs.pop(0)\n",
    "\n",
    "#print(logs)\n",
    "print(len(logs))"
   ]
  },
  {
   "cell_type": "code",
   "execution_count": 4,
   "metadata": {
    "collapsed": true
   },
   "outputs": [],
   "source": [
    "# preprocess the image data by resizing \n",
    "# preprocess the image data by changing the image color space from RGB to HSV and keep S channel only\n",
    "def image_preprocessing(img):\n",
    "    resized = cv2.resize((cv2.cvtColor(img, cv2.COLOR_RGB2HSV))[:,:,1],(img_cols,img_rows))\n",
    "    return resized\n",
    "\n",
    "# resize the images to 16X32\n",
    "img_rows = 16\n",
    "img_cols = 32\n",
    "\n",
    "# batch size and epochs\n",
    "batch_size = 128\n",
    "EPOCHS= 10"
   ]
  },
  {
   "cell_type": "code",
   "execution_count": 4,
   "metadata": {},
   "outputs": [
    {
     "name": "stdout",
     "output_type": "stream",
     "text": [
      "8036\n"
     ]
    }
   ],
   "source": [
    "# Read in center imags \n",
    "# preprocess center images\n",
    "X = []\n",
    "y = []\n",
    "\n",
    "for i in range(len(logs)):\n",
    "    img_path = logs[i][0]\n",
    "    img_path = data_folder+'IMG'+(img_path.split('IMG')[1])\n",
    "    #print(img_path)\n",
    "    img = plt.imread(img_path)\n",
    "    X.append(image_preprocessing(img))\n",
    "    y.append(float(logs[i][3]))\n",
    "print(len(y))"
   ]
  },
  {
   "cell_type": "code",
   "execution_count": 5,
   "metadata": {},
   "outputs": [
    {
     "name": "stdout",
     "output_type": "stream",
     "text": [
      "16072\n"
     ]
    }
   ],
   "source": [
    "# Read in left imags \n",
    "# preprocess left images\n",
    "# add 0.3 adjusted steering measurements for the left camera images\n",
    "for i in range(len(logs)):\n",
    "    img_path = logs[i][1]\n",
    "    img_path = data_folder+'IMG'+(img_path.split('IMG')[1])\n",
    "    img = plt.imread(img_path)\n",
    "    X.append(image_preprocessing(img))\n",
    "    y.append(float(logs[i][3]) + 0.3)\n",
    "print(len(y))"
   ]
  },
  {
   "cell_type": "code",
   "execution_count": 6,
   "metadata": {},
   "outputs": [
    {
     "name": "stdout",
     "output_type": "stream",
     "text": [
      "24108\n"
     ]
    }
   ],
   "source": [
    "# Read in right image \n",
    "# preprocess right images\n",
    "# substract 0.3 adjusted steering measurements for the right camera images\n",
    "for i in range(len(logs)):\n",
    "    img_path = logs[i][2]\n",
    "    img_path = data_folder+'IMG'+(img_path.split('IMG')[1])\n",
    "    img = plt.imread(img_path)\n",
    "    X.append(image_preprocessing(img))\n",
    "    y.append(float(logs[i][3]) - 0.3)\n",
    "print(len(y))"
   ]
  },
  {
   "cell_type": "code",
   "execution_count": 7,
   "metadata": {
    "collapsed": true
   },
   "outputs": [],
   "source": [
    "data={}\n",
    "data['features'] = X\n",
    "data['labels'] = y\n",
    "\n",
    "X_train, y_train = data['features'], data['labels']"
   ]
  },
  {
   "cell_type": "code",
   "execution_count": 8,
   "metadata": {
    "collapsed": true
   },
   "outputs": [],
   "source": [
    "X_train = np.array(data['features']).astype('float32')\n",
    "y_train = np.array(data['labels']).astype('float32')"
   ]
  },
  {
   "cell_type": "code",
   "execution_count": 9,
   "metadata": {
    "collapsed": true
   },
   "outputs": [],
   "source": [
    "# generate more data by reflection  \n",
    "X_train = np.append(X_train,X_train[:,:,::-1],axis=0)\n",
    "y_train = np.append(y_train,-y_train,axis=0)"
   ]
  },
  {
   "cell_type": "code",
   "execution_count": 10,
   "metadata": {
    "collapsed": true
   },
   "outputs": [],
   "source": [
    "# shuffle data and then split data into training and validation \n",
    "X_train, y_train = shuffle(X_train, y_train)\n",
    "X_train, X_valid, y_train, y_valid = train_test_split(X_train, y_train, random_state=0, test_size=0.1)"
   ]
  },
  {
   "cell_type": "code",
   "execution_count": 11,
   "metadata": {},
   "outputs": [
    {
     "name": "stdout",
     "output_type": "stream",
     "text": [
      "Training Image Shape:     (16, 32, 1)\n",
      "Training Set:    43394 samples\n",
      "\n",
      "Validation Image Shape:     (16, 32, 1)\n",
      "Validation Set:    4822 samples\n"
     ]
    }
   ],
   "source": [
    "# reshape the training and validation data to (None, 16, 32, 1)\n",
    "X_train = X_train.reshape(X_train.shape[0], img_rows, img_cols, 1)\n",
    "X_valid = X_valid.reshape(X_valid.shape[0], img_rows, img_cols, 1)\n",
    "\n",
    "print(\"Training Image Shape:     {}\".format(X_train[0].shape))\n",
    "print(\"Training Set:    {} samples\".format(len(X_train)))\n",
    "print()\n",
    "print(\"Validation Image Shape:     {}\".format(X_valid[0].shape))\n",
    "print(\"Validation Set:    {} samples\".format(len(X_valid)))"
   ]
  },
  {
   "cell_type": "code",
   "execution_count": 5,
   "metadata": {
    "scrolled": true
   },
   "outputs": [
    {
     "name": "stdout",
     "output_type": "stream",
     "text": [
      "_________________________________________________________________\n",
      "Layer (type)                 Output Shape              Param #   \n",
      "=================================================================\n",
      "lambda_1 (Lambda)            (None, 16, 32, 1)         0         \n",
      "_________________________________________________________________\n",
      "conv2d_1 (Conv2D)            (None, 14, 30, 2)         20        \n",
      "_________________________________________________________________\n",
      "max_pooling2d_1 (MaxPooling2 (None, 3, 7, 2)           0         \n",
      "_________________________________________________________________\n",
      "dropout_1 (Dropout)          (None, 3, 7, 2)           0         \n",
      "_________________________________________________________________\n",
      "flatten_1 (Flatten)          (None, 42)                0         \n",
      "_________________________________________________________________\n",
      "dense_1 (Dense)              (None, 1)                 43        \n",
      "=================================================================\n",
      "Total params: 63\n",
      "Trainable params: 63\n",
      "Non-trainable params: 0\n",
      "_________________________________________________________________\n"
     ]
    }
   ],
   "source": [
    "# define the model\n",
    "# one conv and one fully connected layer \n",
    "model = Sequential([Lambda(lambda x: x/127.5 - 1.,input_shape=(img_rows,img_cols,1)),\n",
    "                    Conv2D(2, (3, 3), input_shape=(img_rows,img_cols,1), activation='relu', padding = 'valid'),\n",
    "                    MaxPooling2D((4,4),(4,4),'valid'),\n",
    "                    Dropout(0.25),\n",
    "                    Flatten(),\n",
    "                    Dense(1)])\n",
    "model.summary()"
   ]
  },
  {
   "cell_type": "code",
   "execution_count": 13,
   "metadata": {
    "scrolled": true
   },
   "outputs": [
    {
     "name": "stdout",
     "output_type": "stream",
     "text": [
      "Train on 43394 samples, validate on 4822 samples\n",
      "Epoch 1/10\n",
      "43394/43394 [==============================] - 10s 226us/step - loss: 0.1350 - val_loss: 0.0554\n",
      "Epoch 2/10\n",
      "43394/43394 [==============================] - 8s 180us/step - loss: 0.0597 - val_loss: 0.0454\n",
      "Epoch 3/10\n",
      "43394/43394 [==============================] - 8s 184us/step - loss: 0.0500 - val_loss: 0.0415\n",
      "Epoch 4/10\n",
      "43394/43394 [==============================] - 9s 205us/step - loss: 0.0466 - val_loss: 0.0397\n",
      "Epoch 5/10\n",
      "43394/43394 [==============================] - 10s 231us/step - loss: 0.0447 - val_loss: 0.0382\n",
      "Epoch 6/10\n",
      "43394/43394 [==============================] - 10s 228us/step - loss: 0.0435 - val_loss: 0.0381\n",
      "Epoch 7/10\n",
      "43394/43394 [==============================] - 10s 230us/step - loss: 0.0428 - val_loss: 0.0383\n",
      "Epoch 8/10\n",
      "43394/43394 [==============================] - 10s 229us/step - loss: 0.0424 - val_loss: 0.0374\n",
      "Epoch 9/10\n",
      "43394/43394 [==============================] - 10s 230us/step - loss: 0.0419 - val_loss: 0.0369\n",
      "Epoch 10/10\n",
      "43394/43394 [==============================] - 10s 230us/step - loss: 0.0416 - val_loss: 0.0371\n"
     ]
    },
    {
     "data": {
      "text/plain": [
       "<keras.callbacks.History at 0x18bdc898>"
      ]
     },
     "execution_count": 13,
     "metadata": {},
     "output_type": "execute_result"
    }
   ],
   "source": [
    "# train the model\n",
    "model.compile(loss='mean_squared_error',optimizer='adam')\n",
    "model.fit(X_train, y_train, batch_size=batch_size, epochs=EPOCHS,verbose=1, validation_data=(X_valid, y_valid))"
   ]
  },
  {
   "cell_type": "code",
   "execution_count": 14,
   "metadata": {},
   "outputs": [
    {
     "name": "stdout",
     "output_type": "stream",
     "text": [
      "Model saved.\n"
     ]
    }
   ],
   "source": [
    "# save the model\n",
    "model.save('model_small.h5')  \n",
    "print(\"Model saved.\")"
   ]
  },
  {
   "cell_type": "code",
   "execution_count": null,
   "metadata": {
    "collapsed": true
   },
   "outputs": [],
   "source": []
  }
 ],
 "metadata": {
  "anaconda-cloud": {},
  "kernelspec": {
   "display_name": "Python 3",
   "language": "python",
   "name": "python3"
  },
  "language_info": {
   "codemirror_mode": {
    "name": "ipython",
    "version": 3
   },
   "file_extension": ".py",
   "mimetype": "text/x-python",
   "name": "python",
   "nbconvert_exporter": "python",
   "pygments_lexer": "ipython3",
   "version": "3.5.2"
  },
  "widgets": {
   "state": {},
   "version": "1.1.2"
  }
 },
 "nbformat": 4,
 "nbformat_minor": 1
}
